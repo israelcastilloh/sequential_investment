{
 "cells": [
  {
   "cell_type": "markdown",
   "metadata": {},
   "source": [
    "## An Analytical Model for Sequential Investment Opportunities - Python Implementation\n",
    "\n",
    "\n",
    "* **Roger Adkins** - Bradford University School of Management\n",
    "\n",
    "* **Dean Paxson** - Manchester Business School \n",
    "\n",
    "**Israel Castillo Herrera** - Python Modelling\n",
    "\n",
    "_Ingeniería Financiera. 2020._"
   ]
  },
  {
   "cell_type": "code",
   "execution_count": 23,
   "metadata": {},
   "outputs": [],
   "source": [
    "import numpy as np\n",
    "import matplotlib.pyplot as plt\n",
    "from scipy.optimize import fsolve\n",
    "import cmath  "
   ]
  },
  {
   "cell_type": "code",
   "execution_count": 311,
   "metadata": {},
   "outputs": [],
   "source": [
    "K = [470_271.88, 264_156.34, 94_957.75] # 22_500.50, 10_000.00]\n",
    "\n",
    "sigmas = [.21632, .11059, .10346, .06460, .03745]\n",
    "\n",
    "thetas = [-.02339, -.0040, -.00655, -.01718, -.01790]\n",
    "\n",
    "lambdas_ = [0, 0.001, 0.075, .3333, .6666]\n",
    "\n",
    "###############################################\n",
    "r= .001507"
   ]
  },
  {
   "cell_type": "code",
   "execution_count": 312,
   "metadata": {
    "scrolled": true
   },
   "outputs": [
    {
     "name": "stdout",
     "output_type": "stream",
     "text": [
      "The value of the project at Stage 1 is: 602460.1419767762\n",
      "The value of the project at Stage 2 is: 384246.40137145965\n"
     ]
    },
    {
     "data": {
      "image/png": "[encoded data removed]",
      "text/plain": [
       "<Figure size 432x288 with 1 Axes>"
      ]
     },
     "metadata": {
      "needs_background": "light"
     },
     "output_type": "display_data"
    }
   ],
   "source": [
    "### phi's\n",
    "\n",
    "phis = [0] * len(K)\n",
    "\n",
    "B = [0] * len(K)\n",
    "A = [1] * len(K)\n",
    "\n",
    "betas = [1] * len(K)\n",
    "\n",
    "eta_1_N = [1] * len(K)\n",
    "eta_N_n = [1] * len(K)\n",
    "eta_N_N = [1] * len(K)\n",
    "\n",
    "delta_0_N = [0] * len(K)\n",
    "delta_N_1N = [0] * len(K)\n",
    "delta_N_N = [0] * len(K)\n",
    "\n",
    "U = [0] * len(K)\n",
    "\n",
    "Vs = [1] * len(K)\n",
    "Vs_C = [1] * len(K)\n",
    "\n",
    "F = [1] * len(K)\n",
    "\n",
    "for i in range(1, len(K)):\n",
    "\n",
    "    sigma_N = sigmas[0]**2 + sigmas[i]**2\n",
    "    \n",
    "    Q_N = lambda phi_n : (1/2) * (sigma_N) * phi_n * (phi_n - 1) + \\\n",
    "                    phi_n * (thetas[0] - thetas[i]) - \\\n",
    "                    (r + lambdas_[i] - thetas[i])\n",
    "\n",
    "    ### Modificando 𝜙𝑁(𝑟 + 𝜆𝑁−1 − 𝜃𝐾𝑁) \n",
    "\n",
    "    phi_n = np.linspace(-100, 100, 1000)\n",
    "    plt.plot(phi_n, Q_N(phi_n))\n",
    "    plt.xlabel(\"phi\")\n",
    "    plt.ylabel(\"expression value\")\n",
    "    plt.grid()\n",
    "    #plt.show()\n",
    "\n",
    "\n",
    "    #Use the numerical solver to find the roots\n",
    "    phi_n = fsolve(Q_N, 1)\n",
    "    phi_n = float(phi_n[0])\n",
    "    \n",
    "    # Values of Phi\n",
    "    \n",
    "    phis[i] =  phi_n \n",
    "    \n",
    "    #### A Y B\n",
    "    \n",
    "    B[i] = ((phis[i]-1)**(phis[i]-1))/((phis[i]**phis[i])) \n",
    "    \n",
    "    A[i] = B[i] * A[i-1]**phis[i]\n",
    "    \n",
    "    #### BETAS\n",
    "    \n",
    "    betas[i] = phis[i]*betas[i-1]\n",
    "    \n",
    "    \n",
    "    #### ETAS\n",
    "    \n",
    "    eta_1_N[i] = phis[i] * eta_1_N[i-1]\n",
    "    \n",
    "    eta_N_n[i] = phis[i] * (1-phis[i-1])\n",
    "    \n",
    "    eta_N_N[i] = (1-phis[i])\n",
    "    \n",
    "    #### DELTAS\n",
    "    \n",
    "    delta_0_N[i] = 1/(betas[i-1])\n",
    "    \n",
    "    delta_N_1N[i] = -(eta_N_N[i-1])/(betas[i-1])\n",
    "    \n",
    "    delta_N_N[i] = 1/(betas[i-1])\n",
    "    \n",
    "    #### MARKUP FACTOR\n",
    "    \n",
    "    U[i] = ((phis[i])/(A[i-1]*(phis[i]-1)))**delta_0_N[i]\n",
    "    \n",
    "\n",
    "    #### OPTIONS VALUES\n",
    "    \n",
    "    F[i] = B[i]  * (F[i-1]**phis[i]) * (K[i])**(1-phis[i])\n",
    "    \n",
    "    #### THRESHOLD VALUES\n",
    "    \n",
    "    Vs[i] = K[1:i+1]\n",
    "    #print(Vs[i])\n",
    "    for j in range(0, len(Vs[i])):\n",
    "        if j+1 == i:\n",
    "            Vs[i][j] = Vs[i][j] ** (1/(betas[i-1]))\n",
    "        elif j+1 < i:\n",
    "            Vs[i][j] = Vs[i][j] ** (-(eta_N_N[i-1])/(betas[i-1]))\n",
    "    V = np.product(Vs[i])*U[i]\n",
    "    print('The value of the project at Stage %d is:' %i, V)"
   ]
  },
  {
   "cell_type": "code",
   "execution_count": 313,
   "metadata": {},
   "outputs": [
    {
     "name": "stdout",
     "output_type": "stream",
     "text": [
      "Threshold Levels Vs Complete:  [1, [264156.34], [238.387887749258, 623.8334584368664]]\n"
     ]
    }
   ],
   "source": [
    "print('Threshold Levels Vs Complete: ', Vs)"
   ]
  },
  {
   "cell_type": "code",
   "execution_count": 314,
   "metadata": {},
   "outputs": [
    {
     "name": "stdout",
     "output_type": "stream",
     "text": [
      "The Phi`s are:  [0, 1.7808258093952303, 2.6684259680889486]\n",
      "\n",
      "Values of B are:  [0, 0.29497851443909645, 0.17118761415161776]\n",
      "\n",
      "Values of A are:  [1, 0.29497851443909645, 0.006586386794092046]\n",
      "\n",
      "Values of betas are:  [1, 1.7808258093952303, 4.752001834433253]\n"
     ]
    }
   ],
   "source": [
    "print('The Phi`s are: ', phis)\n",
    "print('')\n",
    "print('Values of B are: ', B)\n",
    "print('')\n",
    "print('Values of A are: ', A)\n",
    "print('')\n",
    "print('Values of betas are: ', betas)"
   ]
  },
  {
   "cell_type": "code",
   "execution_count": 315,
   "metadata": {},
   "outputs": [
    {
     "name": "stdout",
     "output_type": "stream",
     "text": [
      "Values of eta(1)(N) are:  [1, 1.7808258093952303, 4.752001834433253]\n",
      "\n",
      "Values of eta(N-1)(N) are:  [1, 1.7808258093952303, -2.083575866344304]\n",
      "\n",
      "Values of eta(N)(N) are:  [1, -0.7808258093952303, -1.6684259680889486]\n"
     ]
    }
   ],
   "source": [
    "print('Values of eta(1)(N) are: ', eta_1_N)\n",
    "print('')\n",
    "print('Values of eta(N-1)(N) are: ', eta_N_n)\n",
    "print('')\n",
    "print('Values of eta(N)(N) are: ', eta_N_N)"
   ]
  },
  {
   "cell_type": "code",
   "execution_count": 316,
   "metadata": {},
   "outputs": [
    {
     "name": "stdout",
     "output_type": "stream",
     "text": [
      "Values of delta(0)(N) are:  [0, 1.0, 0.5615372344247418]\n",
      "\n",
      "Values of delta(N-1N) are:  [0, -1.0, 0.4384627655752582]\n",
      "\n",
      "Values of delta(N)(N) are:  [0, 1.0, 0.5615372344247418]\n"
     ]
    }
   ],
   "source": [
    "print('Values of delta(0)(N) are: ', delta_0_N)\n",
    "print('')\n",
    "print('Values of delta(N-1N) are: ', delta_N_1N)\n",
    "print('')\n",
    "print('Values of delta(N)(N) are: ', delta_N_N)"
   ]
  },
  {
   "cell_type": "code",
   "execution_count": 318,
   "metadata": {},
   "outputs": [
    {
     "name": "stdout",
     "output_type": "stream",
     "text": [
      "Markup Values U:  [0, 2.2806953714484997, 2.5837884912267195]\n",
      "\n",
      "Option Values F:  [1, 1.7229050747538096e-05, 1.6487219450860933e-22]\n"
     ]
    }
   ],
   "source": [
    "print('Markup Values U: ', U)\n",
    "print('')\n",
    "print('Option Values F: ', F)"
   ]
  }
 ],
 "metadata": {
  "kernelspec": {
   "display_name": "Python 3",
   "language": "python",
   "name": "python3"
  },
  "language_info": {
   "codemirror_mode": {
    "name": "ipython",
    "version": 3
   },
   "file_extension": ".py",
   "mimetype": "text/x-python",
   "name": "python",
   "nbconvert_exporter": "python",
   "pygments_lexer": "ipython3",
   "version": "3.8.5"
  }
 },
 "nbformat": 4,
 "nbformat_minor": 4
}
